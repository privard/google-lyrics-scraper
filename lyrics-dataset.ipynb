{
 "metadata": {
  "language_info": {
   "codemirror_mode": {
    "name": "ipython",
    "version": 3
   },
   "file_extension": ".py",
   "mimetype": "text/x-python",
   "name": "python",
   "nbconvert_exporter": "python",
   "pygments_lexer": "ipython3",
   "version": "2.7.16-final"
  },
  "orig_nbformat": 2,
  "kernelspec": {
   "name": "python2",
   "display_name": "Python 2"
  }
 },
 "nbformat": 4,
 "nbformat_minor": 2,
 "cells": [
  {
   "cell_type": "code",
   "execution_count": 55,
   "metadata": {},
   "outputs": [],
   "source": [
    "import pandas as pd\n",
    "import os"
   ]
  },
  {
   "cell_type": "code",
   "execution_count": 56,
   "metadata": {},
   "outputs": [],
   "source": [
    "violent_dir = os.getenv(\n",
    "    'VIOLENT_DIR', \n",
    "    '/Users/pvachon/Dropbox/OGHackaton/lyrics/violent')\n",
    "non_violent_dir = os.getenv(\n",
    "    'NON_VIOLENT_DIR', \n",
    "    '/Users/pvachon/Dropbox/OGHackaton/lyrics/non-violent')\n",
    "output_path = os.getenv(\n",
    "    'OUTPUT_PATH',\n",
    "    '/Users/pvachon/Dropbox/OGHackaton/data/lyrics.txt')"
   ]
  },
  {
   "cell_type": "code",
   "execution_count": 57,
   "metadata": {},
   "outputs": [],
   "source": [
    "def get_lyrics_from_folder(dir, label):\n",
    "    if not os.path.exists(dir):\n",
    "        raise Exception(\"Couldn't find directory %s\" % dir)\n",
    "    files = os.listdir(dir)\n",
    "    lyrics = []\n",
    "    for file in files:\n",
    "        song_id = file.replace('.txt', '')\n",
    "        with open(\"%s/%s\" % (dir, file)) as f:\n",
    "            lines = ''.join(f.readlines())\n",
    "            lyrics.append((song_id, label, lines))\n",
    "    return lyrics"
   ]
  },
  {
   "cell_type": "code",
   "execution_count": 58,
   "metadata": {},
   "outputs": [
    {
     "output_type": "stream",
     "name": "stdout",
     "text": [
      "Found 1519 lyrics in /Users/pvachon/Dropbox/OGHackaton/lyrics/violent\n"
     ]
    }
   ],
   "source": [
    "violent_lyrics = get_lyrics_from_folder(violent_dir, 'violent')\n",
    "print('Found %i lyrics in %s' % (len(violent_lyrics), violent_dir))"
   ]
  },
  {
   "cell_type": "code",
   "execution_count": 59,
   "metadata": {},
   "outputs": [
    {
     "output_type": "stream",
     "name": "stdout",
     "text": [
      "Found 1966 lyrics in /Users/pvachon/Dropbox/OGHackaton/lyrics/non-violent\n"
     ]
    }
   ],
   "source": [
    "non_violent_lyrics = get_lyrics_from_folder(non_violent_dir, 'non-violent')\n",
    "print('Found %i lyrics in %s' % (len(non_violent_lyrics), non_violent_dir))"
   ]
  },
  {
   "cell_type": "code",
   "execution_count": 60,
   "metadata": {},
   "outputs": [],
   "source": [
    "lyrics = pd.DataFrame(\n",
    "    violent_lyrics + non_violent_lyrics,\n",
    "    columns=('song_id', 'label', 'lyrics')\n",
    "    )"
   ]
  },
  {
   "cell_type": "code",
   "execution_count": 61,
   "metadata": {},
   "outputs": [],
   "source": [
    "lyrics.to_csv(\n",
    "    'lyrics.txt', \n",
    "    sep='\\t', \n",
    "    header=True, \n",
    "    index=False, \n",
    "    mode='w')"
   ]
  },
  {
   "cell_type": "code",
   "execution_count": 62,
   "metadata": {},
   "outputs": [
    {
     "output_type": "execute_result",
     "data": {
      "text/html": "<div>\n<style scoped>\n    .dataframe tbody tr th:only-of-type {\n        vertical-align: middle;\n    }\n\n    .dataframe tbody tr th {\n        vertical-align: top;\n    }\n\n    .dataframe thead th {\n        text-align: right;\n    }\n</style>\n<table border=\"1\" class=\"dataframe\">\n  <thead>\n    <tr style=\"text-align: right;\">\n      <th></th>\n      <th>song_id</th>\n      <th>label</th>\n      <th>lyrics</th>\n    </tr>\n  </thead>\n  <tbody>\n    <tr>\n      <th>0</th>\n      <td>1016460</td>\n      <td>violent</td>\n      <td>These great fields are stretching\\nTaking me o...</td>\n    </tr>\n    <tr>\n      <th>1</th>\n      <td>892600</td>\n      <td>violent</td>\n      <td>Here's a story think you aught to be listening...</td>\n    </tr>\n    <tr>\n      <th>2</th>\n      <td>1526783</td>\n      <td>violent</td>\n      <td>This instrument can teach\\nit can illuminate, ...</td>\n    </tr>\n    <tr>\n      <th>3</th>\n      <td>968035</td>\n      <td>violent</td>\n      <td>Don't panic\\nNo, not yet\\nI know I'm the one y...</td>\n    </tr>\n    <tr>\n      <th>4</th>\n      <td>1467085</td>\n      <td>violent</td>\n      <td>Any day could be your last in the jungle\\nGet ...</td>\n    </tr>\n    <tr>\n      <th>5</th>\n      <td>131064</td>\n      <td>violent</td>\n      <td>Lately things won't go my way\\nLately everythi...</td>\n    </tr>\n    <tr>\n      <th>6</th>\n      <td>872737</td>\n      <td>violent</td>\n      <td>I'm in a bar full of bikers\\nAnd a handful of ...</td>\n    </tr>\n    <tr>\n      <th>7</th>\n      <td>1455037</td>\n      <td>violent</td>\n      <td>I love you\\nTurn my headphone down a little bi...</td>\n    </tr>\n    <tr>\n      <th>8</th>\n      <td>693852</td>\n      <td>violent</td>\n      <td>County road two thirty-three under my feet\\nNo...</td>\n    </tr>\n    <tr>\n      <th>9</th>\n      <td>765108</td>\n      <td>violent</td>\n      <td>Broken love don't pay my bills, uh, huh, huh\\n...</td>\n    </tr>\n    <tr>\n      <th>10</th>\n      <td>1136997</td>\n      <td>violent</td>\n      <td>\"They're in arrogance, close-knit brotherhood ...</td>\n    </tr>\n    <tr>\n      <th>11</th>\n      <td>1393808</td>\n      <td>violent</td>\n      <td>She wakes up wet in a shower stall\\nSewn toget...</td>\n    </tr>\n    <tr>\n      <th>12</th>\n      <td>1180614</td>\n      <td>violent</td>\n      <td>Girls just wanna play games\\nOh, I said girls ...</td>\n    </tr>\n    <tr>\n      <th>13</th>\n      <td>978959</td>\n      <td>violent</td>\n      <td>I remember the day\\nI carried my best friend t...</td>\n    </tr>\n    <tr>\n      <th>14</th>\n      <td>1006317</td>\n      <td>violent</td>\n      <td>[Hook: X Ambassadors]\\nI'm getting by with my ...</td>\n    </tr>\n    <tr>\n      <th>15</th>\n      <td>1094885</td>\n      <td>violent</td>\n      <td>How much a dollar really cost?\\nThe question i...</td>\n    </tr>\n    <tr>\n      <th>16</th>\n      <td>1453687</td>\n      <td>violent</td>\n      <td>Father, father, unforgivable\\nThis is my house...</td>\n    </tr>\n    <tr>\n      <th>17</th>\n      <td>810373</td>\n      <td>violent</td>\n      <td>Mato a muy temprana edad\\nPor eso vivió trauma...</td>\n    </tr>\n    <tr>\n      <th>18</th>\n      <td>123879</td>\n      <td>violent</td>\n      <td>Hold Her Down\\ntake her arms and hold her down...</td>\n    </tr>\n    <tr>\n      <th>19</th>\n      <td>1534185</td>\n      <td>violent</td>\n      <td>Pullin' out the coupe at the lot\\nTold 'em \"Fu...</td>\n    </tr>\n    <tr>\n      <th>20</th>\n      <td>568872</td>\n      <td>violent</td>\n      <td>Hey there,\\nI know it's hard to feel like I do...</td>\n    </tr>\n    <tr>\n      <th>21</th>\n      <td>1205659</td>\n      <td>violent</td>\n      <td>Get it before\\nIt goes to waste\\nLick on my kn...</td>\n    </tr>\n    <tr>\n      <th>22</th>\n      <td>952008</td>\n      <td>violent</td>\n      <td>I got different debates, my eyes don't survive...</td>\n    </tr>\n    <tr>\n      <th>23</th>\n      <td>922289</td>\n      <td>violent</td>\n      <td>Da da da da dum dum da dum dum\\nDa da da da du...</td>\n    </tr>\n    <tr>\n      <th>24</th>\n      <td>1393798</td>\n      <td>violent</td>\n      <td>She's got a gun\\nJust make her day\\nDon't fuck...</td>\n    </tr>\n    <tr>\n      <th>25</th>\n      <td>1160864</td>\n      <td>violent</td>\n      <td>Did it ever occur to you that I'm lethal\\nAll ...</td>\n    </tr>\n    <tr>\n      <th>26</th>\n      <td>918897</td>\n      <td>violent</td>\n      <td>This world's at war\\nAnd I'm by myself\\nYeah t...</td>\n    </tr>\n    <tr>\n      <th>27</th>\n      <td>1465533</td>\n      <td>violent</td>\n      <td>Yeah baby\\nAy\\nIt's been so different since yo...</td>\n    </tr>\n    <tr>\n      <th>28</th>\n      <td>1141100</td>\n      <td>violent</td>\n      <td>Science and reason will tell us so\\r\\nThe bloo...</td>\n    </tr>\n    <tr>\n      <th>29</th>\n      <td>1276927</td>\n      <td>violent</td>\n      <td>I can see it in your eyes\\nSee it in your face...</td>\n    </tr>\n    <tr>\n      <th>...</th>\n      <td>...</td>\n      <td>...</td>\n      <td>...</td>\n    </tr>\n    <tr>\n      <th>3455</th>\n      <td>85631</td>\n      <td>non-violent</td>\n      <td>NaN</td>\n    </tr>\n    <tr>\n      <th>3456</th>\n      <td>847434</td>\n      <td>non-violent</td>\n      <td>I remember a rooftop making out\\nDownstairs th...</td>\n    </tr>\n    <tr>\n      <th>3457</th>\n      <td>171934</td>\n      <td>non-violent</td>\n      <td>Hey, hey!\\nShe was a be-bop baby on a hard day...</td>\n    </tr>\n    <tr>\n      <th>3458</th>\n      <td>1167874</td>\n      <td>non-violent</td>\n      <td>Where the Nile flows\\nAnd the moon glows\\nOn t...</td>\n    </tr>\n    <tr>\n      <th>3459</th>\n      <td>1394788</td>\n      <td>non-violent</td>\n      <td>I wanna go out\\nDress up real nice and find so...</td>\n    </tr>\n    <tr>\n      <th>3460</th>\n      <td>1385875</td>\n      <td>non-violent</td>\n      <td>And I could bare my body and my bones, mmm\\nBu...</td>\n    </tr>\n    <tr>\n      <th>3461</th>\n      <td>521310</td>\n      <td>non-violent</td>\n      <td>He said I'm strong enough to leave you\\nHe sai...</td>\n    </tr>\n    <tr>\n      <th>3462</th>\n      <td>744530</td>\n      <td>non-violent</td>\n      <td>Walking on a dream\\nHow can I explain\\nTalking...</td>\n    </tr>\n    <tr>\n      <th>3463</th>\n      <td>1087189</td>\n      <td>non-violent</td>\n      <td>My heart is the eastern horizon\\nYou are the s...</td>\n    </tr>\n    <tr>\n      <th>3464</th>\n      <td>287175</td>\n      <td>non-violent</td>\n      <td>A friend of mine bought himself a shovel\\nSaid...</td>\n    </tr>\n    <tr>\n      <th>3465</th>\n      <td>137168</td>\n      <td>non-violent</td>\n      <td>All that you need, all that you want.\\nI wanna...</td>\n    </tr>\n    <tr>\n      <th>3466</th>\n      <td>1522926</td>\n      <td>non-violent</td>\n      <td>First of December and here come the songs\\r\\nI...</td>\n    </tr>\n    <tr>\n      <th>3467</th>\n      <td>879323</td>\n      <td>non-violent</td>\n      <td>All her life she lives in sunshine, dancing th...</td>\n    </tr>\n    <tr>\n      <th>3468</th>\n      <td>751707</td>\n      <td>non-violent</td>\n      <td>Who do you love, when love is gone?\\nWho do yo...</td>\n    </tr>\n    <tr>\n      <th>3469</th>\n      <td>828193</td>\n      <td>non-violent</td>\n      <td>If you forget it all, I will bring it with me\\...</td>\n    </tr>\n    <tr>\n      <th>3470</th>\n      <td>1228077</td>\n      <td>non-violent</td>\n      <td>I've been drowning\\nDown and out and\\nGivin' m...</td>\n    </tr>\n    <tr>\n      <th>3471</th>\n      <td>898888</td>\n      <td>non-violent</td>\n      <td>Life like a b-side, a medicated verse\\nFall in...</td>\n    </tr>\n    <tr>\n      <th>3472</th>\n      <td>814124</td>\n      <td>non-violent</td>\n      <td>I feel your love\\nI feel your strong love\\nI f...</td>\n    </tr>\n    <tr>\n      <th>3473</th>\n      <td>4324</td>\n      <td>non-violent</td>\n      <td>I had known you for quite some time\\nBut the t...</td>\n    </tr>\n    <tr>\n      <th>3474</th>\n      <td>1533156</td>\n      <td>non-violent</td>\n      <td>Sunny, yesterday my life was filled with rain\\...</td>\n    </tr>\n    <tr>\n      <th>3475</th>\n      <td>999200</td>\n      <td>non-violent</td>\n      <td>I tell myself what\\nI want to know,\\nThey say ...</td>\n    </tr>\n    <tr>\n      <th>3476</th>\n      <td>1127897</td>\n      <td>non-violent</td>\n      <td>Agent intellect knocks and says\\n\"Again, again...</td>\n    </tr>\n    <tr>\n      <th>3477</th>\n      <td>1329816</td>\n      <td>non-violent</td>\n      <td>Blue-eyed boy, I want you mine\\nYour touch, my...</td>\n    </tr>\n    <tr>\n      <th>3478</th>\n      <td>977642</td>\n      <td>non-violent</td>\n      <td>Reggie asked Peter, \"Do you know what's wrong ...</td>\n    </tr>\n    <tr>\n      <th>3479</th>\n      <td>824540</td>\n      <td>non-violent</td>\n      <td>I never chose to be born for what's become of ...</td>\n    </tr>\n    <tr>\n      <th>3480</th>\n      <td>1280312</td>\n      <td>non-violent</td>\n      <td>Just one birthday card sent to me\\nI missed my...</td>\n    </tr>\n    <tr>\n      <th>3481</th>\n      <td>811538</td>\n      <td>non-violent</td>\n      <td>Vuelves como el surf\\nPlástica y valiente\\nSer...</td>\n    </tr>\n    <tr>\n      <th>3482</th>\n      <td>80403</td>\n      <td>non-violent</td>\n      <td>All the waiters in your grand cafe\\nLeave thei...</td>\n    </tr>\n    <tr>\n      <th>3483</th>\n      <td>40141</td>\n      <td>non-violent</td>\n      <td>They're really rockin Boston\\nIn Pittsburgh, P...</td>\n    </tr>\n    <tr>\n      <th>3484</th>\n      <td>1561406</td>\n      <td>non-violent</td>\n      <td>One that has more of a, a break and start\\nDoo...</td>\n    </tr>\n  </tbody>\n</table>\n<p>3485 rows × 3 columns</p>\n</div>",
      "text/plain": [
       "      song_id        label                                             lyrics\n",
       "0     1016460      violent  These great fields are stretching\\nTaking me o...\n",
       "1      892600      violent  Here's a story think you aught to be listening...\n",
       "2     1526783      violent  This instrument can teach\\nit can illuminate, ...\n",
       "3      968035      violent  Don't panic\\nNo, not yet\\nI know I'm the one y...\n",
       "4     1467085      violent  Any day could be your last in the jungle\\nGet ...\n",
       "5      131064      violent  Lately things won't go my way\\nLately everythi...\n",
       "6      872737      violent  I'm in a bar full of bikers\\nAnd a handful of ...\n",
       "7     1455037      violent  I love you\\nTurn my headphone down a little bi...\n",
       "8      693852      violent  County road two thirty-three under my feet\\nNo...\n",
       "9      765108      violent  Broken love don't pay my bills, uh, huh, huh\\n...\n",
       "10    1136997      violent  \"They're in arrogance, close-knit brotherhood ...\n",
       "11    1393808      violent  She wakes up wet in a shower stall\\nSewn toget...\n",
       "12    1180614      violent  Girls just wanna play games\\nOh, I said girls ...\n",
       "13     978959      violent  I remember the day\\nI carried my best friend t...\n",
       "14    1006317      violent  [Hook: X Ambassadors]\\nI'm getting by with my ...\n",
       "15    1094885      violent  How much a dollar really cost?\\nThe question i...\n",
       "16    1453687      violent  Father, father, unforgivable\\nThis is my house...\n",
       "17     810373      violent  Mato a muy temprana edad\\nPor eso vivió trauma...\n",
       "18     123879      violent  Hold Her Down\\ntake her arms and hold her down...\n",
       "19    1534185      violent  Pullin' out the coupe at the lot\\nTold 'em \"Fu...\n",
       "20     568872      violent  Hey there,\\nI know it's hard to feel like I do...\n",
       "21    1205659      violent  Get it before\\nIt goes to waste\\nLick on my kn...\n",
       "22     952008      violent  I got different debates, my eyes don't survive...\n",
       "23     922289      violent  Da da da da dum dum da dum dum\\nDa da da da du...\n",
       "24    1393798      violent  She's got a gun\\nJust make her day\\nDon't fuck...\n",
       "25    1160864      violent  Did it ever occur to you that I'm lethal\\nAll ...\n",
       "26     918897      violent  This world's at war\\nAnd I'm by myself\\nYeah t...\n",
       "27    1465533      violent  Yeah baby\\nAy\\nIt's been so different since yo...\n",
       "28    1141100      violent  Science and reason will tell us so\\r\\nThe bloo...\n",
       "29    1276927      violent  I can see it in your eyes\\nSee it in your face...\n",
       "...       ...          ...                                                ...\n",
       "3455    85631  non-violent                                                NaN\n",
       "3456   847434  non-violent  I remember a rooftop making out\\nDownstairs th...\n",
       "3457   171934  non-violent  Hey, hey!\\nShe was a be-bop baby on a hard day...\n",
       "3458  1167874  non-violent  Where the Nile flows\\nAnd the moon glows\\nOn t...\n",
       "3459  1394788  non-violent  I wanna go out\\nDress up real nice and find so...\n",
       "3460  1385875  non-violent  And I could bare my body and my bones, mmm\\nBu...\n",
       "3461   521310  non-violent  He said I'm strong enough to leave you\\nHe sai...\n",
       "3462   744530  non-violent  Walking on a dream\\nHow can I explain\\nTalking...\n",
       "3463  1087189  non-violent  My heart is the eastern horizon\\nYou are the s...\n",
       "3464   287175  non-violent  A friend of mine bought himself a shovel\\nSaid...\n",
       "3465   137168  non-violent  All that you need, all that you want.\\nI wanna...\n",
       "3466  1522926  non-violent  First of December and here come the songs\\r\\nI...\n",
       "3467   879323  non-violent  All her life she lives in sunshine, dancing th...\n",
       "3468   751707  non-violent  Who do you love, when love is gone?\\nWho do yo...\n",
       "3469   828193  non-violent  If you forget it all, I will bring it with me\\...\n",
       "3470  1228077  non-violent  I've been drowning\\nDown and out and\\nGivin' m...\n",
       "3471   898888  non-violent  Life like a b-side, a medicated verse\\nFall in...\n",
       "3472   814124  non-violent  I feel your love\\nI feel your strong love\\nI f...\n",
       "3473     4324  non-violent  I had known you for quite some time\\nBut the t...\n",
       "3474  1533156  non-violent  Sunny, yesterday my life was filled with rain\\...\n",
       "3475   999200  non-violent  I tell myself what\\nI want to know,\\nThey say ...\n",
       "3476  1127897  non-violent  Agent intellect knocks and says\\n\"Again, again...\n",
       "3477  1329816  non-violent  Blue-eyed boy, I want you mine\\nYour touch, my...\n",
       "3478   977642  non-violent  Reggie asked Peter, \"Do you know what's wrong ...\n",
       "3479   824540  non-violent  I never chose to be born for what's become of ...\n",
       "3480  1280312  non-violent  Just one birthday card sent to me\\nI missed my...\n",
       "3481   811538  non-violent  Vuelves como el surf\\nPlástica y valiente\\nSer...\n",
       "3482    80403  non-violent  All the waiters in your grand cafe\\nLeave thei...\n",
       "3483    40141  non-violent  They're really rockin Boston\\nIn Pittsburgh, P...\n",
       "3484  1561406  non-violent  One that has more of a, a break and start\\nDoo...\n",
       "\n",
       "[3485 rows x 3 columns]"
      ]
     },
     "metadata": {},
     "execution_count": 62
    }
   ],
   "source": [
    "pd.read_csv('lyrics.txt', sep='\\t')"
   ]
  },
  {
   "cell_type": "code",
   "execution_count": null,
   "metadata": {},
   "outputs": [],
   "source": []
  }
 ]
}